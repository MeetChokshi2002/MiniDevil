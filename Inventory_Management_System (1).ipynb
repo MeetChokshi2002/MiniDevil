{
  "nbformat": 4,
  "nbformat_minor": 0,
  "metadata": {
    "colab": {
      "name": "Inventory Management System.ipynb",
      "provenance": [],
      "collapsed_sections": []
    },
    "kernelspec": {
      "name": "python3",
      "display_name": "Python 3"
    },
    "language_info": {
      "name": "python"
    }
  },
  "cells": [
    {
      "cell_type": "code",
      "metadata": {
        "id": "0D5whLWDlduV"
      },
      "source": [
        "import json\n",
        "import re\n",
        "file = open(\"DataBase.json\", 'r')\n",
        "items = file.read()\n",
        "file.close()\n",
        "Items = json.loads(items)\n",
        "Cart = {}\n",
        "cartCounter = 1"
      ],
      "execution_count": 808,
      "outputs": []
    },
    {
      "cell_type": "code",
      "metadata": {
        "id": "clThZMbOCYhR"
      },
      "source": [
        "def dumpItems():\n",
        "  items = json.dumps(dict(sorted(Items.items())))\n",
        "  file = open(\"DataBase.json\", 'w')\n",
        "  file.write(items)\n",
        "  file.close()"
      ],
      "execution_count": 809,
      "outputs": []
    },
    {
      "cell_type": "code",
      "metadata": {
        "id": "7HwsFHjemLkh"
      },
      "source": [
        "def viewInventory():\n",
        "  print(\"\\nThe Items in the Inventory are :- \")\n",
        "  print(\"{:<12} {:<35} {:<12} {:<12}\".format(\"Item ID\",\"Item Name\",\"Price\",\"Quantity\"))\n",
        "  print(\"{:<12} {:<35} {:<12} {:<12}\".format(\"-------\",\"---- ----\",\"-----\",\"--------\"))\n",
        "  [print(\"{:<12} {:<35} {:<12} {:<12}\".format(key,value[\"Name\"],value[\"Price\"],value[\"Quantity\"])) for key, value in sorted(Items.items())]"
      ],
      "execution_count": 810,
      "outputs": []
    },
    {
      "cell_type": "code",
      "metadata": {
        "id": "QeJ7SxMdmYZo"
      },
      "source": [
        "def viewCart():\n",
        "  print(\"\\nThe Items in your Cart are :- \\n\")\n",
        "  print(\"{:<12} {:<12} {:<35} {:<12} {:<12}\".format(\"Item No.\",\"Item ID\",\"Item Name\",\"Rate\",\"Quantity\"))\n",
        "  print(\"{:<12} {:<12} {:<35} {:<12} {:<12}\".format(\"--------\",\"-------\",\"---------\",\"-----\",\"--------\"))\n",
        "  [print(\"{:<12} {:<12} {:<35} {:<12} {:<12}\".format(key,value[\"Item ID\"],value[\"Name\"],value[\"Price\"],value[\"Quantity\"])) for key, value in sorted(Cart.items())]"
      ],
      "execution_count": 811,
      "outputs": []
    },
    {
      "cell_type": "code",
      "metadata": {
        "id": "yWXr9MkPWNFA"
      },
      "source": [
        "def bill():\n",
        "  global Bill\n",
        "  file = open(\"Sales.json\", 'r')\n",
        "  sales = file.read()\n",
        "  file.close()\n",
        "  regx = re.findall('Transaction ID = +\\d+',sales)\n",
        "  print(\"Your Invoice is :-\")\n",
        "  if len(regx) > 0:\n",
        "    TS = \"----------------------------- Transaction ID = %s ------------------------------\\n\" % (int(regx[-1][-1:-6:-1][::-1])+1)\n",
        "  else:\n",
        "    TS = \"----------------------------- Transaction ID = 10001 ------------------------------\\n\"\n",
        "  Bill = [\n",
        "  TS,\n",
        "  \"{:<12} {:<12} {:<35} {:<12} {:<12}\".format(\"--------\",\"-------\",\"---------\",\"-----\",\"--------\"),\n",
        "  \"{:<12} {:<12} {:<35} {:<12} {:<12}\".format(\"Item No.\",\"Item ID\",\"Item Name\",\"Quantity\",\"Rate\"),\n",
        "  \"{:<12} {:<12} {:<35} {:<12} {:<12}\".format(\"--------\",\"-------\",\"---------\",\"-----\",\"--------\"),\n",
        "  [\"{:<12} {:<12} {:<35} {:<12} {:<12}\".format(key,value[\"Item ID\"],value[\"Name\"],value[\"Quantity\"],value[\"Price\"]) for key, value in Cart.items()],\n",
        "  \"{:<12} {:<12} {:<35} {:<12} {:<12}\".format(\"--------\",\"-------\",\"---------\",\"-----\",\"--------\"),\n",
        "  ]\n",
        "  for i in range(len(Bill)):\n",
        "    if i == 4:\n",
        "      for j in range(len(Bill[i])):\n",
        "        print(Bill[i][j])\n",
        "    else:\n",
        "      print(Bill[i])\n",
        "  total = sum(int(value[\"Price\"]) for key,value in Cart.items())\n",
        "  print(\"\\nSub Total = \",total)\n",
        "  file = open(\"Sales.json\", 'a')\n",
        "  file.write(\"\\n\\n\")\n",
        "  for i in range(len(Bill)):\n",
        "    if i == 4:\n",
        "      for j in range(len(Bill[i])):\n",
        "        file.write((Bill[i][j])+\"\\n\")\n",
        "    else:\n",
        "      file.write((Bill[i])+\"\\n\")\n",
        "  totalAmount = \"TOTAL AMOUNT RECEIVED ===> \"+str(total)\n",
        "  file.write(totalAmount)\n",
        "  file.close()\n",
        "  print(\"\\n\\nTRANSACTION SUCCESSFUL\\nVISIT OUR INVENTORY BACK SOON :)\")"
      ],
      "execution_count": 812,
      "outputs": []
    },
    {
      "cell_type": "code",
      "metadata": {
        "id": "ujmFtm9vmcFY"
      },
      "source": [
        "def Purchase():\n",
        "  global cartCounter\n",
        "  itemId = input(\"Enter the Item ID :- \")\n",
        "  if itemId in Items:\n",
        "    print(\"Name of item -\\t\\t{}\\nPrice -\\t\\t\\t{}\\nStock Available -\\t{}\".format(Items[itemId]['Name'],Items[itemId]['Price'],Items[itemId]['Quantity']))\n",
        "    purchaseQuantity = int(input(\"\\nEnter the amount of %s's you want to purchase :- \" % Items[itemId]['Name']))\n",
        "    if purchaseQuantity <= int(Items[itemId]['Quantity']):\n",
        "      Cart[cartCounter] = {\"Item ID\":itemId,\"Name\":Items[itemId]['Name'],\"Price\":str(int(Items[itemId]['Price'])*purchaseQuantity),\"Quantity\":purchaseQuantity}\n",
        "      cartCounter = cartCounter + 1\n",
        "      Items[itemId]['Quantity'] = str(int(Items[itemId]['Quantity']) - purchaseQuantity)\n",
        "      print(\"Items Are added in your cart.\")    \n",
        "    else:\n",
        "      print(\"Please try later.\\nWe only have %s %s's in our Inventory.\" % (Items[itemId]['Quantity'],Items[itemId]['Name']))\n",
        "  else:\n",
        "    print(\"Item not in the Inventory...\")"
      ],
      "execution_count": 813,
      "outputs": []
    },
    {
      "cell_type": "code",
      "metadata": {
        "id": "qLeUTn5YmjRP"
      },
      "source": [
        "def add():\n",
        "  print(\"You are about to add items to the Inventory\\n\")\n",
        "  itemId = input(\"Enter the Item ID :- \")\n",
        "  itemName = input(\"Enter the Item Name :- \")\n",
        "  itemPrice = input(\"Enter the Item Price :- \")\n",
        "  itemQuantity = input(\"Enter the Item Quantity :- \")\n",
        "  if (len(itemId)>0 and len(itemName)>0 and len(itemPrice)>0 and len(itemQuantity)>0):\n",
        "    Items[itemId] = {\"Name\":itemName,\"Price\":itemPrice,\"Quantity\":itemQuantity}\n",
        "  else:\n",
        "    print(\"You have missed entering a value, Retry.\")"
      ],
      "execution_count": 814,
      "outputs": []
    },
    {
      "cell_type": "code",
      "metadata": {
        "id": "Yj1-B1NEmmWI"
      },
      "source": [
        "def checkout():\n",
        "  print(\"The items in your Cart are :- \")\n",
        "  viewCart()\n",
        "  confirm = input(\"CONFIRM CHECKOUT\\nAre you sure you want to checkout? If yes, enter \\\"YES\\\", else press any KEY.\\n---> \")\n",
        "  if confirm == \"YES\":\n",
        "    total = sum(int(value[\"Price\"]) for key,value in Cart.items())\n",
        "    print(\"Your Total is :- \",total)\n",
        "  else:\n",
        "    print(\"Back to Menu...\")\n",
        "    pass\n",
        "  while True:\n",
        "    paid = input(\"Have you paid? If yes, enter \\\"YES\\\" to receive the Invoice.\\n--->\")\n",
        "    if paid == \"YES\":\n",
        "      bill()\n",
        "      break"
      ],
      "execution_count": 815,
      "outputs": []
    },
    {
      "cell_type": "code",
      "metadata": {
        "colab": {
          "base_uri": "https://localhost:8080/",
          "height": 1000
        },
        "id": "4Aw4a7Dym1TG",
        "outputId": "233727b4-757c-4170-9387-8a2e4592c479"
      },
      "source": [
        "viewInventory()\n",
        "while True:\n",
        "  operation = input(\"\\nTo Purchase Items\\t - Enter 1\\nAdd Items to Inventory\\t - Enter 2\\nView Inventory\\t\\t - Enter 3\\nView Cart\\t\\t - Enter 4\\nCheckout\\t\\t - Enter 5\\nExit\\t\\t\\t - Enter 0\\n\\nWhat would you like to do? :- \")\n",
        "  if operation == \"1\":\n",
        "    Purchase()\n",
        "    dumpItems()\n",
        "  elif operation == \"2\":\n",
        "    add()\n",
        "    dumpItems()\n",
        "  elif operation == \"3\":\n",
        "    viewInventory()\n",
        "  elif operation == \"4\":\n",
        "    viewCart()\n",
        "  elif operation == \"5\":\n",
        "    checkout()\n",
        "    break\n",
        "  elif operation == \"0\":\n",
        "    print(\"Program Terminated\")\n",
        "    break\n",
        "  else:\n",
        "    print(\"\\nSelect Valid Operation\")"
      ],
      "execution_count": 816,
      "outputs": [
        {
          "output_type": "stream",
          "name": "stdout",
          "text": [
            "\n",
            "The Items in the Inventory are :- \n",
            "Item ID      Item Name                           Price        Quantity    \n",
            "-------      ---- ----                           -----        --------    \n",
            "0            0                                   0            0           \n",
            "0            0                                   0            0           \n",
            "1            Cadbury Perk Home Treats            66           2           \n",
            "10           Amul Dark Chocolate                 94           27          \n",
            "11           Amul 99% Cacao Chocolate            298          40          \n",
            "12           Cadbury Dairy Milk Silk Bar         70           39          \n",
            "13           Cadbury Bournville Raisin & Nuts    324          35          \n",
            "14           Amul Sugar Free Dark Chocolate      124          12          \n",
            "15           Lotte Choco Pie                     180          38          \n",
            "16           Cadbury Gems Minis Home Treats      100          20          \n",
            "17           Cadbury Choclairs Gold Pack         50           23          \n",
            "18           Amul Dark Assorted Pack             347          47          \n",
            "19           Cadbury Rakhi Special Potli         629          21          \n",
            "2            Ferrero Rocher Moments              296          28          \n",
            "20           Dukes Waffy Biscuits Combo          130          11          \n",
            "21           Amul India Origin Dark Chocolate    150          19          \n",
            "22           Cadbury Dairy Milk Silk Mousse      78           29          \n",
            "23           Amul Fruit N Nut Chocolate          93           35          \n",
            "24           Cadbury Bournville                  90           41          \n",
            "25           Kisses Hershey's Cookies n Creme    420          10          \n",
            "26           Cadbury 5 Star Home Treats          115          16          \n",
            "27           Cadbury Shots Carton                396          43          \n",
            "28           Amul 55% Cocoa Dark                 475          18          \n",
            "29           Cadbury Silk Pralines               149          36          \n",
            "3            Cadbury Nutties                     37           25          \n",
            "30           Cadbury Silk Oreo                   146          2           \n",
            "4            Cadbury Gems                        17           28          \n",
            "5            Cadbury Celebrations Premium        295          41          \n",
            "6            Cadbury Dairy Milk Shots            112          43          \n",
            "7            Cadbury Rich Dry Fruit Gift Box     460          35          \n",
            "8            Cadbury Choclairs Gold              198          41          \n",
            "9            Cadbury Dairy Milk Silk             456          47          \n"
          ]
        },
        {
          "output_type": "error",
          "ename": "KeyboardInterrupt",
          "evalue": "ignored",
          "traceback": [
            "\u001b[0;31m---------------------------------------------------------------------------\u001b[0m",
            "\u001b[0;31mKeyboardInterrupt\u001b[0m                         Traceback (most recent call last)",
            "\u001b[0;32m/usr/local/lib/python3.7/dist-packages/ipykernel/kernelbase.py\u001b[0m in \u001b[0;36m_input_request\u001b[0;34m(self, prompt, ident, parent, password)\u001b[0m\n\u001b[1;32m    728\u001b[0m             \u001b[0;32mtry\u001b[0m\u001b[0;34m:\u001b[0m\u001b[0;34m\u001b[0m\u001b[0;34m\u001b[0m\u001b[0m\n\u001b[0;32m--> 729\u001b[0;31m                 \u001b[0mident\u001b[0m\u001b[0;34m,\u001b[0m \u001b[0mreply\u001b[0m \u001b[0;34m=\u001b[0m \u001b[0mself\u001b[0m\u001b[0;34m.\u001b[0m\u001b[0msession\u001b[0m\u001b[0;34m.\u001b[0m\u001b[0mrecv\u001b[0m\u001b[0;34m(\u001b[0m\u001b[0mself\u001b[0m\u001b[0;34m.\u001b[0m\u001b[0mstdin_socket\u001b[0m\u001b[0;34m,\u001b[0m \u001b[0;36m0\u001b[0m\u001b[0;34m)\u001b[0m\u001b[0;34m\u001b[0m\u001b[0;34m\u001b[0m\u001b[0m\n\u001b[0m\u001b[1;32m    730\u001b[0m             \u001b[0;32mexcept\u001b[0m \u001b[0mException\u001b[0m\u001b[0;34m:\u001b[0m\u001b[0;34m\u001b[0m\u001b[0;34m\u001b[0m\u001b[0m\n",
            "\u001b[0;32m/usr/local/lib/python3.7/dist-packages/jupyter_client/session.py\u001b[0m in \u001b[0;36mrecv\u001b[0;34m(self, socket, mode, content, copy)\u001b[0m\n\u001b[1;32m    802\u001b[0m         \u001b[0;32mtry\u001b[0m\u001b[0;34m:\u001b[0m\u001b[0;34m\u001b[0m\u001b[0;34m\u001b[0m\u001b[0m\n\u001b[0;32m--> 803\u001b[0;31m             \u001b[0mmsg_list\u001b[0m \u001b[0;34m=\u001b[0m \u001b[0msocket\u001b[0m\u001b[0;34m.\u001b[0m\u001b[0mrecv_multipart\u001b[0m\u001b[0;34m(\u001b[0m\u001b[0mmode\u001b[0m\u001b[0;34m,\u001b[0m \u001b[0mcopy\u001b[0m\u001b[0;34m=\u001b[0m\u001b[0mcopy\u001b[0m\u001b[0;34m)\u001b[0m\u001b[0;34m\u001b[0m\u001b[0;34m\u001b[0m\u001b[0m\n\u001b[0m\u001b[1;32m    804\u001b[0m         \u001b[0;32mexcept\u001b[0m \u001b[0mzmq\u001b[0m\u001b[0;34m.\u001b[0m\u001b[0mZMQError\u001b[0m \u001b[0;32mas\u001b[0m \u001b[0me\u001b[0m\u001b[0;34m:\u001b[0m\u001b[0;34m\u001b[0m\u001b[0;34m\u001b[0m\u001b[0m\n",
            "\u001b[0;32m/usr/local/lib/python3.7/dist-packages/zmq/sugar/socket.py\u001b[0m in \u001b[0;36mrecv_multipart\u001b[0;34m(self, flags, copy, track)\u001b[0m\n\u001b[1;32m    618\u001b[0m         \"\"\"\n\u001b[0;32m--> 619\u001b[0;31m         \u001b[0mparts\u001b[0m \u001b[0;34m=\u001b[0m \u001b[0;34m[\u001b[0m\u001b[0mself\u001b[0m\u001b[0;34m.\u001b[0m\u001b[0mrecv\u001b[0m\u001b[0;34m(\u001b[0m\u001b[0mflags\u001b[0m\u001b[0;34m,\u001b[0m \u001b[0mcopy\u001b[0m\u001b[0;34m=\u001b[0m\u001b[0mcopy\u001b[0m\u001b[0;34m,\u001b[0m \u001b[0mtrack\u001b[0m\u001b[0;34m=\u001b[0m\u001b[0mtrack\u001b[0m\u001b[0;34m)\u001b[0m\u001b[0;34m]\u001b[0m\u001b[0;34m\u001b[0m\u001b[0;34m\u001b[0m\u001b[0m\n\u001b[0m\u001b[1;32m    620\u001b[0m         \u001b[0;31m# have first part already, only loop while more to receive\u001b[0m\u001b[0;34m\u001b[0m\u001b[0;34m\u001b[0m\u001b[0;34m\u001b[0m\u001b[0m\n",
            "\u001b[0;32mzmq/backend/cython/socket.pyx\u001b[0m in \u001b[0;36mzmq.backend.cython.socket.Socket.recv\u001b[0;34m()\u001b[0m\n",
            "\u001b[0;32mzmq/backend/cython/socket.pyx\u001b[0m in \u001b[0;36mzmq.backend.cython.socket.Socket.recv\u001b[0;34m()\u001b[0m\n",
            "\u001b[0;32mzmq/backend/cython/socket.pyx\u001b[0m in \u001b[0;36mzmq.backend.cython.socket._recv_copy\u001b[0;34m()\u001b[0m\n",
            "\u001b[0;32m/usr/local/lib/python3.7/dist-packages/zmq/backend/cython/checkrc.pxd\u001b[0m in \u001b[0;36mzmq.backend.cython.checkrc._check_rc\u001b[0;34m()\u001b[0m\n",
            "\u001b[0;31mKeyboardInterrupt\u001b[0m: ",
            "\nDuring handling of the above exception, another exception occurred:\n",
            "\u001b[0;31mKeyboardInterrupt\u001b[0m                         Traceback (most recent call last)",
            "\u001b[0;32m<ipython-input-816-1b22a6a6b288>\u001b[0m in \u001b[0;36m<module>\u001b[0;34m()\u001b[0m\n\u001b[1;32m      1\u001b[0m \u001b[0mviewInventory\u001b[0m\u001b[0;34m(\u001b[0m\u001b[0;34m)\u001b[0m\u001b[0;34m\u001b[0m\u001b[0;34m\u001b[0m\u001b[0m\n\u001b[1;32m      2\u001b[0m \u001b[0;32mwhile\u001b[0m \u001b[0;32mTrue\u001b[0m\u001b[0;34m:\u001b[0m\u001b[0;34m\u001b[0m\u001b[0;34m\u001b[0m\u001b[0m\n\u001b[0;32m----> 3\u001b[0;31m   \u001b[0moperation\u001b[0m \u001b[0;34m=\u001b[0m \u001b[0minput\u001b[0m\u001b[0;34m(\u001b[0m\u001b[0;34m\"\\nTo Purchase Items\\t - Enter 1\\nAdd Items to Inventory\\t - Enter 2\\nView Inventory\\t\\t - Enter 3\\nView Cart\\t\\t - Enter 4\\nCheckout\\t\\t - Enter 5\\nExit\\t\\t\\t - Enter 0\\n\\nWhat would you like to do? :- \"\u001b[0m\u001b[0;34m)\u001b[0m\u001b[0;34m\u001b[0m\u001b[0;34m\u001b[0m\u001b[0m\n\u001b[0m\u001b[1;32m      4\u001b[0m   \u001b[0;32mif\u001b[0m \u001b[0moperation\u001b[0m \u001b[0;34m==\u001b[0m \u001b[0;34m\"1\"\u001b[0m\u001b[0;34m:\u001b[0m\u001b[0;34m\u001b[0m\u001b[0;34m\u001b[0m\u001b[0m\n\u001b[1;32m      5\u001b[0m     \u001b[0mPurchase\u001b[0m\u001b[0;34m(\u001b[0m\u001b[0;34m)\u001b[0m\u001b[0;34m\u001b[0m\u001b[0;34m\u001b[0m\u001b[0m\n",
            "\u001b[0;32m/usr/local/lib/python3.7/dist-packages/ipykernel/kernelbase.py\u001b[0m in \u001b[0;36mraw_input\u001b[0;34m(self, prompt)\u001b[0m\n\u001b[1;32m    702\u001b[0m             \u001b[0mself\u001b[0m\u001b[0;34m.\u001b[0m\u001b[0m_parent_ident\u001b[0m\u001b[0;34m,\u001b[0m\u001b[0;34m\u001b[0m\u001b[0;34m\u001b[0m\u001b[0m\n\u001b[1;32m    703\u001b[0m             \u001b[0mself\u001b[0m\u001b[0;34m.\u001b[0m\u001b[0m_parent_header\u001b[0m\u001b[0;34m,\u001b[0m\u001b[0;34m\u001b[0m\u001b[0;34m\u001b[0m\u001b[0m\n\u001b[0;32m--> 704\u001b[0;31m             \u001b[0mpassword\u001b[0m\u001b[0;34m=\u001b[0m\u001b[0;32mFalse\u001b[0m\u001b[0;34m,\u001b[0m\u001b[0;34m\u001b[0m\u001b[0;34m\u001b[0m\u001b[0m\n\u001b[0m\u001b[1;32m    705\u001b[0m         )\n\u001b[1;32m    706\u001b[0m \u001b[0;34m\u001b[0m\u001b[0m\n",
            "\u001b[0;32m/usr/local/lib/python3.7/dist-packages/ipykernel/kernelbase.py\u001b[0m in \u001b[0;36m_input_request\u001b[0;34m(self, prompt, ident, parent, password)\u001b[0m\n\u001b[1;32m    732\u001b[0m             \u001b[0;32mexcept\u001b[0m \u001b[0mKeyboardInterrupt\u001b[0m\u001b[0;34m:\u001b[0m\u001b[0;34m\u001b[0m\u001b[0;34m\u001b[0m\u001b[0m\n\u001b[1;32m    733\u001b[0m                 \u001b[0;31m# re-raise KeyboardInterrupt, to truncate traceback\u001b[0m\u001b[0;34m\u001b[0m\u001b[0;34m\u001b[0m\u001b[0;34m\u001b[0m\u001b[0m\n\u001b[0;32m--> 734\u001b[0;31m                 \u001b[0;32mraise\u001b[0m \u001b[0mKeyboardInterrupt\u001b[0m\u001b[0;34m\u001b[0m\u001b[0;34m\u001b[0m\u001b[0m\n\u001b[0m\u001b[1;32m    735\u001b[0m             \u001b[0;32melse\u001b[0m\u001b[0;34m:\u001b[0m\u001b[0;34m\u001b[0m\u001b[0;34m\u001b[0m\u001b[0m\n\u001b[1;32m    736\u001b[0m                 \u001b[0;32mbreak\u001b[0m\u001b[0;34m\u001b[0m\u001b[0;34m\u001b[0m\u001b[0m\n",
            "\u001b[0;31mKeyboardInterrupt\u001b[0m: "
          ]
        }
      ]
    }
  ]
}